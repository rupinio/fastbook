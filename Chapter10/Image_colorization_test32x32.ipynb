{
  "nbformat": 4,
  "nbformat_minor": 0,
  "metadata": {
    "colab": {
      "name": "Image_colorization.ipynb",
      "provenance": [],
      "include_colab_link": true
    },
    "kernelspec": {
      "name": "python3",
      "display_name": "Python 3"
    },
    "accelerator": "GPU"
  },
  "cells": [
    {
      "cell_type": "markdown",
      "metadata": {
        "id": "view-in-github",
        "colab_type": "text"
      },
      "source": [
        "<a href=\"https://colab.research.google.com/github/rupinio/fastbook/blob/master/Chapter10/Image_colorization_test32x32.ipynb\" target=\"_parent\"><img src=\"https://colab.research.google.com/assets/colab-badge.svg\" alt=\"Open In Colab\"/></a>"
      ]
    },
    {
      "cell_type": "code",
      "metadata": {
        "id": "pxTvRcxBjHr0",
        "outputId": "54a96901-3906-434c-dec2-9910090d2148",
        "colab": {
          "base_uri": "https://localhost:8080/"
        }
      },
      "source": [
        "!pip install torch_snippets\n",
        "from torch_snippets import *\n",
        "device = 'cuda' if torch.cuda.is_available() else 'cpu'"
      ],
      "execution_count": 4,
      "outputs": [
        {
          "output_type": "stream",
          "name": "stdout",
          "text": [
            "Requirement already satisfied: torch_snippets in /usr/local/lib/python3.10/dist-packages (0.545)\n",
            "Requirement already satisfied: fastcore in /usr/local/lib/python3.10/dist-packages (from torch_snippets) (1.7.19)\n",
            "Requirement already satisfied: matplotlib in /usr/local/lib/python3.10/dist-packages (from torch_snippets) (3.8.0)\n",
            "Requirement already satisfied: Pillow in /usr/local/lib/python3.10/dist-packages (from torch_snippets) (10.4.0)\n",
            "Requirement already satisfied: dill in /usr/local/lib/python3.10/dist-packages (from torch_snippets) (0.3.9)\n",
            "Requirement already satisfied: loguru in /usr/local/lib/python3.10/dist-packages (from torch_snippets) (0.7.2)\n",
            "Requirement already satisfied: numpy in /usr/local/lib/python3.10/dist-packages (from torch_snippets) (1.26.4)\n",
            "Requirement already satisfied: pandas in /usr/local/lib/python3.10/dist-packages (from torch_snippets) (2.2.2)\n",
            "Requirement already satisfied: tqdm in /usr/local/lib/python3.10/dist-packages (from torch_snippets) (4.66.6)\n",
            "Requirement already satisfied: rich in /usr/local/lib/python3.10/dist-packages (from torch_snippets) (13.9.3)\n",
            "Requirement already satisfied: PyYAML in /usr/local/lib/python3.10/dist-packages (from torch_snippets) (6.0.2)\n",
            "Requirement already satisfied: catalogue in /usr/local/lib/python3.10/dist-packages (from torch_snippets) (2.0.10)\n",
            "Requirement already satisfied: confection in /usr/local/lib/python3.10/dist-packages (from torch_snippets) (0.1.5)\n",
            "Requirement already satisfied: pydantic in /usr/local/lib/python3.10/dist-packages (from torch_snippets) (2.9.2)\n",
            "Requirement already satisfied: typing in /usr/local/lib/python3.10/dist-packages (from torch_snippets) (3.7.4.3)\n",
            "Requirement already satisfied: srsly in /usr/local/lib/python3.10/dist-packages (from torch_snippets) (2.4.8)\n",
            "Requirement already satisfied: typing-extensions in /usr/local/lib/python3.10/dist-packages (from torch_snippets) (4.12.2)\n",
            "Requirement already satisfied: wasabi in /usr/local/lib/python3.10/dist-packages (from torch_snippets) (1.1.3)\n",
            "Requirement already satisfied: jsonlines in /usr/local/lib/python3.10/dist-packages (from torch_snippets) (4.0.0)\n",
            "Requirement already satisfied: imgaug>=0.4.0 in /usr/local/lib/python3.10/dist-packages (from torch_snippets) (0.4.0)\n",
            "Requirement already satisfied: xmltodict in /usr/local/lib/python3.10/dist-packages (from torch_snippets) (0.14.2)\n",
            "Requirement already satisfied: fuzzywuzzy in /usr/local/lib/python3.10/dist-packages (from torch_snippets) (0.18.0)\n",
            "Requirement already satisfied: nltk in /usr/local/lib/python3.10/dist-packages (from torch_snippets) (3.8.1)\n",
            "Requirement already satisfied: python-Levenshtein in /usr/local/lib/python3.10/dist-packages (from torch_snippets) (0.26.1)\n",
            "Requirement already satisfied: pre-commit in /usr/local/lib/python3.10/dist-packages (from torch_snippets) (4.0.1)\n",
            "Requirement already satisfied: icecream in /usr/local/lib/python3.10/dist-packages (from torch_snippets) (2.1.3)\n",
            "Requirement already satisfied: mergedeep in /usr/local/lib/python3.10/dist-packages (from torch_snippets) (1.3.4)\n",
            "Requirement already satisfied: deepdiff in /usr/local/lib/python3.10/dist-packages (from torch_snippets) (8.0.1)\n",
            "Requirement already satisfied: typer in /usr/local/lib/python3.10/dist-packages (from torch_snippets) (0.12.5)\n",
            "Requirement already satisfied: six in /usr/local/lib/python3.10/dist-packages (from imgaug>=0.4.0->torch_snippets) (1.16.0)\n",
            "Requirement already satisfied: scipy in /usr/local/lib/python3.10/dist-packages (from imgaug>=0.4.0->torch_snippets) (1.13.1)\n",
            "Requirement already satisfied: scikit-image>=0.14.2 in /usr/local/lib/python3.10/dist-packages (from imgaug>=0.4.0->torch_snippets) (0.24.0)\n",
            "Requirement already satisfied: opencv-python in /usr/local/lib/python3.10/dist-packages (from imgaug>=0.4.0->torch_snippets) (4.10.0.84)\n",
            "Requirement already satisfied: imageio in /usr/local/lib/python3.10/dist-packages (from imgaug>=0.4.0->torch_snippets) (2.36.0)\n",
            "Requirement already satisfied: Shapely in /usr/local/lib/python3.10/dist-packages (from imgaug>=0.4.0->torch_snippets) (2.0.6)\n",
            "Requirement already satisfied: annotated-types>=0.6.0 in /usr/local/lib/python3.10/dist-packages (from pydantic->torch_snippets) (0.7.0)\n",
            "Requirement already satisfied: pydantic-core==2.23.4 in /usr/local/lib/python3.10/dist-packages (from pydantic->torch_snippets) (2.23.4)\n",
            "Requirement already satisfied: orderly-set==5.2.2 in /usr/local/lib/python3.10/dist-packages (from deepdiff->torch_snippets) (5.2.2)\n",
            "Requirement already satisfied: packaging in /usr/local/lib/python3.10/dist-packages (from fastcore->torch_snippets) (24.1)\n",
            "Requirement already satisfied: colorama>=0.3.9 in /usr/local/lib/python3.10/dist-packages (from icecream->torch_snippets) (0.4.6)\n",
            "Requirement already satisfied: pygments>=2.2.0 in /usr/local/lib/python3.10/dist-packages (from icecream->torch_snippets) (2.18.0)\n",
            "Requirement already satisfied: executing>=0.3.1 in /usr/local/lib/python3.10/dist-packages (from icecream->torch_snippets) (2.1.0)\n",
            "Requirement already satisfied: asttokens>=2.0.1 in /usr/local/lib/python3.10/dist-packages (from icecream->torch_snippets) (2.4.1)\n",
            "Requirement already satisfied: attrs>=19.2.0 in /usr/local/lib/python3.10/dist-packages (from jsonlines->torch_snippets) (24.2.0)\n",
            "Requirement already satisfied: contourpy>=1.0.1 in /usr/local/lib/python3.10/dist-packages (from matplotlib->torch_snippets) (1.3.0)\n",
            "Requirement already satisfied: cycler>=0.10 in /usr/local/lib/python3.10/dist-packages (from matplotlib->torch_snippets) (0.12.1)\n",
            "Requirement already satisfied: fonttools>=4.22.0 in /usr/local/lib/python3.10/dist-packages (from matplotlib->torch_snippets) (4.54.1)\n",
            "Requirement already satisfied: kiwisolver>=1.0.1 in /usr/local/lib/python3.10/dist-packages (from matplotlib->torch_snippets) (1.4.7)\n",
            "Requirement already satisfied: pyparsing>=2.3.1 in /usr/local/lib/python3.10/dist-packages (from matplotlib->torch_snippets) (3.2.0)\n",
            "Requirement already satisfied: python-dateutil>=2.7 in /usr/local/lib/python3.10/dist-packages (from matplotlib->torch_snippets) (2.8.2)\n",
            "Requirement already satisfied: click in /usr/local/lib/python3.10/dist-packages (from nltk->torch_snippets) (8.1.7)\n",
            "Requirement already satisfied: joblib in /usr/local/lib/python3.10/dist-packages (from nltk->torch_snippets) (1.4.2)\n",
            "Requirement already satisfied: regex>=2021.8.3 in /usr/local/lib/python3.10/dist-packages (from nltk->torch_snippets) (2024.9.11)\n",
            "Requirement already satisfied: pytz>=2020.1 in /usr/local/lib/python3.10/dist-packages (from pandas->torch_snippets) (2024.2)\n",
            "Requirement already satisfied: tzdata>=2022.7 in /usr/local/lib/python3.10/dist-packages (from pandas->torch_snippets) (2024.2)\n",
            "Requirement already satisfied: cfgv>=2.0.0 in /usr/local/lib/python3.10/dist-packages (from pre-commit->torch_snippets) (3.4.0)\n",
            "Requirement already satisfied: identify>=1.0.0 in /usr/local/lib/python3.10/dist-packages (from pre-commit->torch_snippets) (2.6.1)\n",
            "Requirement already satisfied: nodeenv>=0.11.1 in /usr/local/lib/python3.10/dist-packages (from pre-commit->torch_snippets) (1.9.1)\n",
            "Requirement already satisfied: virtualenv>=20.10.0 in /usr/local/lib/python3.10/dist-packages (from pre-commit->torch_snippets) (20.27.1)\n",
            "Requirement already satisfied: Levenshtein==0.26.1 in /usr/local/lib/python3.10/dist-packages (from python-Levenshtein->torch_snippets) (0.26.1)\n",
            "Requirement already satisfied: rapidfuzz<4.0.0,>=3.9.0 in /usr/local/lib/python3.10/dist-packages (from Levenshtein==0.26.1->python-Levenshtein->torch_snippets) (3.10.1)\n",
            "Requirement already satisfied: markdown-it-py>=2.2.0 in /usr/local/lib/python3.10/dist-packages (from rich->torch_snippets) (3.0.0)\n",
            "Requirement already satisfied: shellingham>=1.3.0 in /usr/local/lib/python3.10/dist-packages (from typer->torch_snippets) (1.5.4)\n",
            "Requirement already satisfied: mdurl~=0.1 in /usr/local/lib/python3.10/dist-packages (from markdown-it-py>=2.2.0->rich->torch_snippets) (0.1.2)\n",
            "Requirement already satisfied: networkx>=2.8 in /usr/local/lib/python3.10/dist-packages (from scikit-image>=0.14.2->imgaug>=0.4.0->torch_snippets) (3.4.2)\n",
            "Requirement already satisfied: tifffile>=2022.8.12 in /usr/local/lib/python3.10/dist-packages (from scikit-image>=0.14.2->imgaug>=0.4.0->torch_snippets) (2024.9.20)\n",
            "Requirement already satisfied: lazy-loader>=0.4 in /usr/local/lib/python3.10/dist-packages (from scikit-image>=0.14.2->imgaug>=0.4.0->torch_snippets) (0.4)\n",
            "Requirement already satisfied: distlib<1,>=0.3.7 in /usr/local/lib/python3.10/dist-packages (from virtualenv>=20.10.0->pre-commit->torch_snippets) (0.3.9)\n",
            "Requirement already satisfied: filelock<4,>=3.12.2 in /usr/local/lib/python3.10/dist-packages (from virtualenv>=20.10.0->pre-commit->torch_snippets) (3.16.1)\n",
            "Requirement already satisfied: platformdirs<5,>=3.9.1 in /usr/local/lib/python3.10/dist-packages (from virtualenv>=20.10.0->pre-commit->torch_snippets) (4.3.6)\n"
          ]
        }
      ]
    },
    {
      "cell_type": "code",
      "metadata": {
        "id": "TLj3kgQ5jJy-",
        "outputId": "64819e6b-5353-4063-83a6-b89269b67995",
        "colab": {
          "base_uri": "https://localhost:8080/"
        }
      },
      "source": [
        "from torchvision import datasets\n",
        "import torch\n",
        "data_folder = '~/cifar10/cifar/'\n",
        "from torch.utils.data import DataLoader\n",
        "datasets.CIFAR10(data_folder, download=True)"
      ],
      "execution_count": 11,
      "outputs": [
        {
          "output_type": "stream",
          "name": "stdout",
          "text": [
            "Files already downloaded and verified\n"
          ]
        },
        {
          "output_type": "execute_result",
          "data": {
            "text/plain": [
              "Dataset CIFAR10\n",
              "    Number of datapoints: 50000\n",
              "    Root location: /root/cifar10/cifar/\n",
              "    Split: Train"
            ]
          },
          "metadata": {},
          "execution_count": 11
        }
      ]
    },
    {
      "cell_type": "code",
      "metadata": {
        "id": "mSNY3ACajL9J"
      },
      "source": [
        "class Colorize(datasets.CIFAR10):\n",
        "    def __init__(self, root, train):\n",
        "        super().__init__(root, train)\n",
        "\n",
        "    def __getitem__(self, ix):\n",
        "        im, _ = super().__getitem__(ix)\n",
        "        bw = im.convert('L').convert('RGB')\n",
        "        bw, im = np.array(bw)/255., np.array(im)/255.\n",
        "        bw, im = [torch.tensor(i).permute(2,0,1).to(device).float() for i in [bw,im]]\n",
        "        return bw, im\n",
        "\n",
        "trn_ds = Colorize('~/cifar10/cifar/', train=True)\n",
        "val_ds = Colorize('~/cifar10/cifar/', train=False)\n",
        "\n",
        "trn_dl = DataLoader(trn_ds, batch_size=256, shuffle=True)\n",
        "val_dl = DataLoader(val_ds, batch_size=256, shuffle=False)"
      ],
      "execution_count": 12,
      "outputs": []
    },
    {
      "cell_type": "code",
      "metadata": {
        "id": "TBn3fE5wjQOF",
        "outputId": "ad7ceaf1-f4b9-4310-eb43-1d83a935d5ce",
        "colab": {
          "base_uri": "https://localhost:8080/",
          "height": 264
        }
      },
      "source": [
        "a,b = trn_ds[0]\n",
        "subplots([a,b], nc=2)"
      ],
      "execution_count": 13,
      "outputs": [
        {
          "output_type": "display_data",
          "data": {
            "text/plain": [
              "<Figure size 500x500 with 2 Axes>"
            ],
            "image/png": "[encoded data removed]"
          },
          "metadata": {}
        }
      ]
    },
    {
      "cell_type": "code",
      "metadata": {
        "id": "JucvkzEljVOL"
      },
      "source": [
        "import torch.nn as nn # import torch.nn as nn to define the nn module\n",
        "import torch.optim as optim # import torch.optim as optim to use the Adam optimizer\n",
        "\n",
        "class Identity(nn.Module):\n",
        "    def __init__(self):\n",
        "        super().__init__()\n",
        "    def forward(self, x):\n",
        "        return x\n",
        "\n",
        "class DownConv(nn.Module):\n",
        "    def __init__(self, ni, no, maxpool=True):\n",
        "        super().__init__()\n",
        "        self.model = nn.Sequential(\n",
        "            nn.MaxPool2d(2) if maxpool else Identity(),\n",
        "            nn.Conv2d(ni, no, 3, padding=1),\n",
        "            nn.BatchNorm2d(no),\n",
        "            nn.LeakyReLU(0.2, inplace=True),\n",
        "            nn.Conv2d(no, no, 3, padding=1),\n",
        "            nn.BatchNorm2d(no),\n",
        "            nn.LeakyReLU(0.2, inplace=True),\n",
        "        )\n",
        "    def forward(self, x):\n",
        "        return self.model(x)\n",
        "\n",
        "class UpConv(nn.Module):\n",
        "    def __init__(self, ni, no, maxpool=True):\n",
        "        super().__init__()\n",
        "        self.convtranspose = nn.ConvTranspose2d(ni, no, 2, stride=2)\n",
        "        self.convlayers = nn.Sequential(\n",
        "            nn.Conv2d(no+no, no, 3, padding=1),\n",
        "            nn.BatchNorm2d(no),\n",
        "            nn.LeakyReLU(0.2, inplace=True),\n",
        "            nn.Conv2d(no, no, 3, padding=1),\n",
        "            nn.BatchNorm2d(no),\n",
        "            nn.LeakyReLU(0.2, inplace=True),\n",
        "        )\n",
        "\n",
        "    def forward(self, x, y):\n",
        "        x = self.convtranspose(x)\n",
        "        x = torch.cat([x,y], axis=1)\n",
        "        x = self.convlayers(x)\n",
        "        return x\n",
        "\n",
        "class UNet(nn.Module):\n",
        "    def __init__(self):\n",
        "        super().__init__()\n",
        "        self.d1 = DownConv( 3, 64, maxpool=False)\n",
        "        self.d2 = DownConv( 64, 128)\n",
        "        self.d3 = DownConv( 128, 256)\n",
        "        self.d4 = DownConv( 256, 512)\n",
        "        self.d5 = DownConv( 512, 1024)\n",
        "        self.u5 = UpConv (1024, 512)\n",
        "        self.u4 = UpConv ( 512, 256)\n",
        "        self.u3 = UpConv ( 256, 128)\n",
        "        self.u2 = UpConv ( 128, 64)\n",
        "        self.u1 = nn.Conv2d(64, 3, kernel_size=1, stride=1)\n",
        "\n",
        "    def forward(self, x):\n",
        "        x0 = self.d1( x) # 32\n",
        "        x1 = self.d2(x0) # 16\n",
        "        x2 = self.d3(x1) # 8\n",
        "        x3 = self.d4(x2) # 4\n",
        "        x4 = self.d5(x3) # 2\n",
        "        X4 = self.u5(x4, x3)# 4\n",
        "        X3 = self.u4(X4, x2)# 8\n",
        "        X2 = self.u3(X3, x1)# 16\n",
        "        X1 = self.u2(X2, x0)# 32\n",
        "        X0 = self.u1(X1) # 3\n",
        "        return X0"
      ],
      "execution_count": 17,
      "outputs": []
    },
    {
      "cell_type": "code",
      "metadata": {
        "id": "npl6eg0fjhB7"
      },
      "source": [
        "def get_model():\n",
        "    model = UNet().to(device)\n",
        "    optimizer = optim.Adam(model.parameters(), lr=1e-3)\n",
        "    loss_fn = nn.MSELoss()\n",
        "    return model, optimizer, loss_fn"
      ],
      "execution_count": 18,
      "outputs": []
    },
    {
      "cell_type": "code",
      "metadata": {
        "id": "wEISQWVfjle7"
      },
      "source": [
        "def train_batch(model, data, optimizer, criterion):\n",
        "    model.train()\n",
        "    x, y = data\n",
        "    _y = model(x)\n",
        "    optimizer.zero_grad()\n",
        "    loss = criterion(_y, y)\n",
        "    loss.backward()\n",
        "    optimizer.step()\n",
        "    return loss.item()\n",
        "\n",
        "@torch.no_grad()\n",
        "def validate_batch(model, data, criterion):\n",
        "    model.eval()\n",
        "    x, y = data\n",
        "    _y = model(x)\n",
        "    loss = criterion(_y, y)\n",
        "    return loss.item()"
      ],
      "execution_count": 19,
      "outputs": []
    },
    {
      "cell_type": "code",
      "metadata": {
        "id": "a28nhHymjnjK",
        "outputId": "10c713c3-6686-430d-8de3-9a16b191a24d",
        "colab": {
          "base_uri": "https://localhost:8080/",
          "height": 332
        }
      },
      "source": [
        "model, optimizer, criterion = get_model()\n",
        "exp_lr_scheduler = optim.lr_scheduler.StepLR(optimizer, step_size=10, gamma=0.1)\n",
        "\n",
        "_val_dl = DataLoader(val_ds, batch_size=1, shuffle=True)\n",
        "\n",
        "n_epochs = 100\n",
        "log = Report(n_epochs)\n",
        "for ex in range(n_epochs):\n",
        "    N = len(trn_dl)\n",
        "    for bx, data in enumerate(trn_dl):\n",
        "        loss = train_batch(model, data, optimizer, criterion)\n",
        "        log.record(ex+(bx+1)/N, trn_loss=loss, end='\\r')\n",
        "        if (bx+1)%50 == 0:\n",
        "            for _ in range(5):\n",
        "                a,b = next(iter(_val_dl))\n",
        "                _b = model(a)\n",
        "                subplots([a[0], b[0], _b[0]], nc=3, figsize=(5,5))\n",
        "\n",
        "    N = len(val_dl)\n",
        "    for bx, data in enumerate(val_dl):\n",
        "        loss = validate_batch(model, data, criterion)\n",
        "        log.record(ex+(bx+1)/N, val_loss=loss, end='\\r')\n",
        "\n",
        "    exp_lr_scheduler.step()\n",
        "    if (ex+1) % 5 == 0: log.report_avgs(ex+1)\n",
        "\n",
        "    for _ in range(5):\n",
        "        a,b = next(iter(_val_dl))\n",
        "        _b = model(a)\n",
        "        subplots([a[0], b[0], _b[0]], nc=3, figsize=(5,5))\n",
        "\n",
        "log.plot(log=True)"
      ],
      "execution_count": 20,
      "outputs": [
        {
          "output_type": "error",
          "ename": "NameError",
          "evalue": "name 'optim' is not defined",
          "traceback": [
            "\u001b[0;31m---------------------------------------------------------------------------\u001b[0m",
            "\u001b[0;31mNameError\u001b[0m                                 Traceback (most recent call last)",
            "\u001b[0;32m<ipython-input-20-fad578a292c2>\u001b[0m in \u001b[0;36m<cell line: 1>\u001b[0;34m()\u001b[0m\n\u001b[0;32m----> 1\u001b[0;31m \u001b[0mmodel\u001b[0m\u001b[0;34m,\u001b[0m \u001b[0moptimizer\u001b[0m\u001b[0;34m,\u001b[0m \u001b[0mcriterion\u001b[0m \u001b[0;34m=\u001b[0m \u001b[0mget_model\u001b[0m\u001b[0;34m(\u001b[0m\u001b[0;34m)\u001b[0m\u001b[0;34m\u001b[0m\u001b[0;34m\u001b[0m\u001b[0m\n\u001b[0m\u001b[1;32m      2\u001b[0m \u001b[0mexp_lr_scheduler\u001b[0m \u001b[0;34m=\u001b[0m \u001b[0moptim\u001b[0m\u001b[0;34m.\u001b[0m\u001b[0mlr_scheduler\u001b[0m\u001b[0;34m.\u001b[0m\u001b[0mStepLR\u001b[0m\u001b[0;34m(\u001b[0m\u001b[0moptimizer\u001b[0m\u001b[0;34m,\u001b[0m \u001b[0mstep_size\u001b[0m\u001b[0;34m=\u001b[0m\u001b[0;36m10\u001b[0m\u001b[0;34m,\u001b[0m \u001b[0mgamma\u001b[0m\u001b[0;34m=\u001b[0m\u001b[0;36m0.1\u001b[0m\u001b[0;34m)\u001b[0m\u001b[0;34m\u001b[0m\u001b[0;34m\u001b[0m\u001b[0m\n\u001b[1;32m      3\u001b[0m \u001b[0;34m\u001b[0m\u001b[0m\n\u001b[1;32m      4\u001b[0m \u001b[0m_val_dl\u001b[0m \u001b[0;34m=\u001b[0m \u001b[0mDataLoader\u001b[0m\u001b[0;34m(\u001b[0m\u001b[0mval_ds\u001b[0m\u001b[0;34m,\u001b[0m \u001b[0mbatch_size\u001b[0m\u001b[0;34m=\u001b[0m\u001b[0;36m1\u001b[0m\u001b[0;34m,\u001b[0m \u001b[0mshuffle\u001b[0m\u001b[0;34m=\u001b[0m\u001b[0;32mTrue\u001b[0m\u001b[0;34m)\u001b[0m\u001b[0;34m\u001b[0m\u001b[0;34m\u001b[0m\u001b[0m\n\u001b[1;32m      5\u001b[0m \u001b[0;34m\u001b[0m\u001b[0m\n",
            "\u001b[0;32m<ipython-input-18-1faa0348c815>\u001b[0m in \u001b[0;36mget_model\u001b[0;34m()\u001b[0m\n\u001b[1;32m      1\u001b[0m \u001b[0;32mdef\u001b[0m \u001b[0mget_model\u001b[0m\u001b[0;34m(\u001b[0m\u001b[0;34m)\u001b[0m\u001b[0;34m:\u001b[0m\u001b[0;34m\u001b[0m\u001b[0;34m\u001b[0m\u001b[0m\n\u001b[1;32m      2\u001b[0m     \u001b[0mmodel\u001b[0m \u001b[0;34m=\u001b[0m \u001b[0mUNet\u001b[0m\u001b[0;34m(\u001b[0m\u001b[0;34m)\u001b[0m\u001b[0;34m.\u001b[0m\u001b[0mto\u001b[0m\u001b[0;34m(\u001b[0m\u001b[0mdevice\u001b[0m\u001b[0;34m)\u001b[0m\u001b[0;34m\u001b[0m\u001b[0;34m\u001b[0m\u001b[0m\n\u001b[0;32m----> 3\u001b[0;31m     \u001b[0moptimizer\u001b[0m \u001b[0;34m=\u001b[0m \u001b[0moptim\u001b[0m\u001b[0;34m.\u001b[0m\u001b[0mAdam\u001b[0m\u001b[0;34m(\u001b[0m\u001b[0mmodel\u001b[0m\u001b[0;34m.\u001b[0m\u001b[0mparameters\u001b[0m\u001b[0;34m(\u001b[0m\u001b[0;34m)\u001b[0m\u001b[0;34m,\u001b[0m \u001b[0mlr\u001b[0m\u001b[0;34m=\u001b[0m\u001b[0;36m1e-3\u001b[0m\u001b[0;34m)\u001b[0m\u001b[0;34m\u001b[0m\u001b[0;34m\u001b[0m\u001b[0m\n\u001b[0m\u001b[1;32m      4\u001b[0m     \u001b[0mloss_fn\u001b[0m \u001b[0;34m=\u001b[0m \u001b[0mnn\u001b[0m\u001b[0;34m.\u001b[0m\u001b[0mMSELoss\u001b[0m\u001b[0;34m(\u001b[0m\u001b[0;34m)\u001b[0m\u001b[0;34m\u001b[0m\u001b[0;34m\u001b[0m\u001b[0m\n\u001b[1;32m      5\u001b[0m     \u001b[0;32mreturn\u001b[0m \u001b[0mmodel\u001b[0m\u001b[0;34m,\u001b[0m \u001b[0moptimizer\u001b[0m\u001b[0;34m,\u001b[0m \u001b[0mloss_fn\u001b[0m\u001b[0;34m\u001b[0m\u001b[0;34m\u001b[0m\u001b[0m\n",
            "\u001b[0;31mNameError\u001b[0m: name 'optim' is not defined"
          ]
        }
      ]
    },
    {
      "cell_type": "code",
      "metadata": {
        "id": "cGD2v46ijqGG",
        "outputId": "9c75103d-c38c-49dd-97d3-3e8a3d15c38f",
        "colab": {
          "base_uri": "https://localhost:8080/",
          "height": 473
        }
      },
      "source": [
        "\n",
        "log.plot_epochs()"
      ],
      "execution_count": null,
      "outputs": [
        {
          "output_type": "stream",
          "text": [
            "  0%|          | 0/101 [00:00<?, ?it/s]/usr/local/lib/python3.6/dist-packages/numpy/core/fromnumeric.py:3335: RuntimeWarning: Mean of empty slice.\n",
            "  out=out, **kwargs)\n",
            "/usr/local/lib/python3.6/dist-packages/numpy/core/_methods.py:161: RuntimeWarning: invalid value encountered in double_scalars\n",
            "  ret = ret.dtype.type(ret / rcount)\n",
            "100%|██████████| 101/101 [00:00<00:00, 396.27it/s]\n"
          ],
          "name": "stderr"
        },
        {
          "output_type": "display_data",
          "data": {
            "image/png": "[encoded data removed]",
            "text/plain": [
              "<Figure size 576x432 with 1 Axes>"
            ]
          },
          "metadata": {
            "tags": [],
            "needs_background": "light"
          }
        }
      ]
    },
    {
      "cell_type": "code",
      "metadata": {
        "id": "W-5x7lWvGo4O"
      },
      "source": [],
      "execution_count": null,
      "outputs": []
    }
  ]
}